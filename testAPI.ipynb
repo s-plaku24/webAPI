{
 "cells": [
  {
   "cell_type": "code",
   "execution_count": 1,
   "id": "762d6af0-0e40-4fb1-a33e-ccb3d51886d1",
   "metadata": {},
   "outputs": [],
   "source": [
    "import requests"
   ]
  },
  {
   "cell_type": "code",
   "execution_count": 2,
   "id": "2089d12f-5d1a-4f6e-a9b2-36d7d494edfb",
   "metadata": {},
   "outputs": [],
   "source": [
    "response = requests.get(\"https://api.randomuser.me/\")"
   ]
  },
  {
   "cell_type": "code",
   "execution_count": 3,
   "id": "c2d767f0-7cb2-47df-8e44-ff64a12cb7e6",
   "metadata": {},
   "outputs": [
    {
     "name": "stdout",
     "output_type": "stream",
     "text": [
      "200\n"
     ]
    }
   ],
   "source": [
    "print(response.status_code)"
   ]
  },
  {
   "cell_type": "code",
   "execution_count": 4,
   "id": "532a6f0b-94fd-430d-84b2-22eda78b0d5a",
   "metadata": {},
   "outputs": [],
   "source": [
    "parameters = {\"results\": 10, \"gender\": \"male\", \"nat\": \"us\"}\n",
    "response = requests.get(\"https://api.randomuser.me/\", params=parameters)"
   ]
  },
  {
   "cell_type": "code",
   "execution_count": 5,
   "id": "49b7e530-1fac-45f6-ae77-300e3d5935ef",
   "metadata": {},
   "outputs": [
    {
     "name": "stdout",
     "output_type": "stream",
     "text": [
      "{\"results\":[{\"gender\":\"male\",\"name\":{\"title\":\"Mr\",\"first\":\"Matthew\",\"last\":\"Riley\"},\"location\":{\"street\":{\"number\":7929,\"name\":\"Edwards Rd\"},\"city\":\"Coral Springs\",\"state\":\"Kansas\",\"country\":\"United States\",\"postcode\":95785,\"coordinates\":{\"latitude\":\"-20.2758\",\"longitude\":\"67.7318\"},\"timezone\":{\"offset\":\"-6:00\",\"description\":\"Central Time (US & Canada), Mexico City\"}},\"email\":\"matthew.riley@example.com\",\"login\":{\"uuid\":\"c3c334f3-fe92-46fd-a95e-7b8ab8653f41\",\"username\":\"purplefrog932\",\"password\":\"pepe\",\"salt\":\"o06Kjx92\",\"md5\":\"c0c5cfd53fda4265cd94ef8ceb00905c\",\"sha1\":\"675dc066079be3bd7701aead1c27d45b413a6896\",\"sha256\":\"0d72a286b1eb184e95021f7f5e5ecab86db84b855ec181f1a3c7a3fabd46f886\"},\"dob\":{\"date\":\"1973-01-08T21:40:43.044Z\",\"age\":52},\"registered\":{\"date\":\"2017-01-22T04:13:06.904Z\",\"age\":8},\"phone\":\"(775) 532-9204\",\"cell\":\"(512) 606-6651\",\"id\":{\"name\":\"SSN\",\"value\":\"836-94-8179\"},\"picture\":{\"large\":\"https://randomuser.me/api/portraits/men/54.jpg\",\"medium\":\"https://randomuser.me/api/portraits/med/men/54.jpg\",\"thumbnail\":\"https://randomuser.me/api/portraits/thumb/men/54.jpg\"},\"nat\":\"US\"},{\"gender\":\"male\",\"name\":{\"title\":\"Mr\",\"first\":\"Rene\",\"last\":\"Franklin\"},\"location\":{\"street\":{\"number\":9308,\"name\":\"Homestead Rd\"},\"city\":\"Waterbury\",\"state\":\"Oklahoma\",\"country\":\"United States\",\"postcode\":86723,\"coordinates\":{\"latitude\":\"-4.0424\",\"longitude\":\"-26.6208\"},\"timezone\":{\"offset\":\"0:00\",\"description\":\"Western Europe Time, London, Lisbon, Casablanca\"}},\"email\":\"rene.franklin@example.com\",\"login\":{\"uuid\":\"2490aaa9-2e6a-4f7d-abf5-c47e6fbd86b9\",\"username\":\"blackbutterfly728\",\"password\":\"thisisit\",\"salt\":\"FzRKJTeb\",\"md5\":\"934508f20b10bc134155e5fa80374448\",\"sha1\":\"4b6240d4e6bf34ab4c2514f989a8520d232ff987\",\"sha256\":\"b076e631797371831ea5ac933d723f047629b423f687de19b29ef015e7d30f57\"},\"dob\":{\"date\":\"1947-06-16T06:38:39.160Z\",\"age\":78},\"registered\":{\"date\":\"2013-05-08T02:29:34.296Z\",\"age\":12},\"phone\":\"(230) 754-9563\",\"cell\":\"(879) 997-3549\",\"id\":{\"name\":\"SSN\",\"value\":\"711-41-5652\"},\"picture\":{\"large\":\"https://randomuser.me/api/portraits/men/62.jpg\",\"medium\":\"https://randomuser.me/api/portraits/med/men/62.jpg\",\"thumbnail\":\"https://randomuser.me/api/portraits/thumb/men/62.jpg\"},\"nat\":\"US\"},{\"gender\":\"male\",\"name\":{\"title\":\"Mr\",\"first\":\"Eduardo\",\"last\":\"Weaver\"},\"location\":{\"street\":{\"number\":1201,\"name\":\"W Pecan St\"},\"city\":\"Beaumont\",\"state\":\"Missouri\",\"country\":\"United States\",\"postcode\":59834,\"coordinates\":{\"latitude\":\"13.0316\",\"longitude\":\"81.5930\"},\"timezone\":{\"offset\":\"+4:00\",\"description\":\"Abu Dhabi, Muscat, Baku, Tbilisi\"}},\"email\":\"eduardo.weaver@example.com\",\"login\":{\"uuid\":\"10e21b08-9140-4b86-a895-cbeefc686eb2\",\"username\":\"yellowostrich706\",\"password\":\"superb\",\"salt\":\"qUYpUtei\",\"md5\":\"c70cd2a56b9eb0cc8aaf2e01495ebef7\",\"sha1\":\"20ee7e1136626c9708d22eb064526333f4c1e5eb\",\"sha256\":\"1ff30c0842337873783e5fe010fb963f17e7f37535f4fa5e85ab9b5ec11d1145\"},\"dob\":{\"date\":\"1989-10-08T00:44:34.081Z\",\"age\":35},\"registered\":{\"date\":\"2012-01-20T14:51:56.898Z\",\"age\":13},\"phone\":\"(675) 412-0158\",\"cell\":\"(465) 977-3090\",\"id\":{\"name\":\"SSN\",\"value\":\"164-70-2872\"},\"picture\":{\"large\":\"https://randomuser.me/api/portraits/men/20.jpg\",\"medium\":\"https://randomuser.me/api/portraits/med/men/20.jpg\",\"thumbnail\":\"https://randomuser.me/api/portraits/thumb/men/20.jpg\"},\"nat\":\"US\"},{\"gender\":\"male\",\"name\":{\"title\":\"Mr\",\"first\":\"Samuel\",\"last\":\"Howard\"},\"location\":{\"street\":{\"number\":8707,\"name\":\"Depaul Dr\"},\"city\":\"Phoenix\",\"state\":\"Colorado\",\"country\":\"United States\",\"postcode\":82418,\"coordinates\":{\"latitude\":\"-69.7784\",\"longitude\":\"-27.4165\"},\"timezone\":{\"offset\":\"-3:30\",\"description\":\"Newfoundland\"}},\"email\":\"samuel.howard@example.com\",\"login\":{\"uuid\":\"28a83b4f-91e1-4784-bd3c-412dfaac738c\",\"username\":\"ticklishduck865\",\"password\":\"scania\",\"salt\":\"63SxE7rA\",\"md5\":\"0f31e0bedffb8d16b5fe7b32dff72935\",\"sha1\":\"6df25a32c4d6a9670697c64108d4ab2044edb7cf\",\"sha256\":\"2931b5fe82bd1bfa5063f7d15682b6089c12b1047d57cd010a2b17551fd9724a\"},\"dob\":{\"date\":\"1982-02-14T20:01:22.867Z\",\"age\":43},\"registered\":{\"date\":\"2003-02-02T06:21:11.532Z\",\"age\":22},\"phone\":\"(629) 856-0641\",\"cell\":\"(415) 574-5595\",\"id\":{\"name\":\"SSN\",\"value\":\"102-57-3059\"},\"picture\":{\"large\":\"https://randomuser.me/api/portraits/men/36.jpg\",\"medium\":\"https://randomuser.me/api/portraits/med/men/36.jpg\",\"thumbnail\":\"https://randomuser.me/api/portraits/thumb/men/36.jpg\"},\"nat\":\"US\"},{\"gender\":\"male\",\"name\":{\"title\":\"Mr\",\"first\":\"Eduardo\",\"last\":\"Garcia\"},\"location\":{\"street\":{\"number\":2572,\"name\":\"Sunset St\"},\"city\":\"Huntsville\",\"state\":\"South Carolina\",\"country\":\"United States\",\"postcode\":74614,\"coordinates\":{\"latitude\":\"10.7090\",\"longitude\":\"-64.9625\"},\"timezone\":{\"offset\":\"0:00\",\"description\":\"Western Europe Time, London, Lisbon, Casablanca\"}},\"email\":\"eduardo.garcia@example.com\",\"login\":{\"uuid\":\"13118d59-8ecc-451f-82a7-c13ec3ad64d2\",\"username\":\"goldentiger573\",\"password\":\"muffy\",\"salt\":\"aYLDt7tG\",\"md5\":\"c309c913df705071f6ddb9b2acee1e46\",\"sha1\":\"3b7834213a7f2705369dd90da06d883a09129bbc\",\"sha256\":\"bfa1346fb666c0c26e12ebcd1eec4f0a23ec1ac33724444dd5c6cb09f69e4982\"},\"dob\":{\"date\":\"1980-01-10T11:22:30.033Z\",\"age\":45},\"registered\":{\"date\":\"2020-07-24T22:45:38.076Z\",\"age\":4},\"phone\":\"(687) 247-8160\",\"cell\":\"(977) 470-0251\",\"id\":{\"name\":\"SSN\",\"value\":\"552-34-9531\"},\"picture\":{\"large\":\"https://randomuser.me/api/portraits/men/22.jpg\",\"medium\":\"https://randomuser.me/api/portraits/med/men/22.jpg\",\"thumbnail\":\"https://randomuser.me/api/portraits/thumb/men/22.jpg\"},\"nat\":\"US\"},{\"gender\":\"male\",\"name\":{\"title\":\"Mr\",\"first\":\"Norman\",\"last\":\"Lawrence\"},\"location\":{\"street\":{\"number\":8858,\"name\":\"W 6th St\"},\"city\":\"Colorado Springs\",\"state\":\"Montana\",\"country\":\"United States\",\"postcode\":14191,\"coordinates\":{\"latitude\":\"32.3161\",\"longitude\":\"-141.1411\"},\"timezone\":{\"offset\":\"+5:30\",\"description\":\"Bombay, Calcutta, Madras, New Delhi\"}},\"email\":\"norman.lawrence@example.com\",\"login\":{\"uuid\":\"ceeb67f4-6cd3-4da0-993f-c8a0a725287b\",\"username\":\"greenwolf947\",\"password\":\"monika\",\"salt\":\"xgjJkEVz\",\"md5\":\"bc593dc8709c1d616d862b17a79e4416\",\"sha1\":\"8beffefc2b97dddf7c5fbbc29c06f8038e4ffc2f\",\"sha256\":\"f30332a0d4acd43bd3930c6df41dbe9ef91bd0fb03852e50deac957e13f497d6\"},\"dob\":{\"date\":\"1988-03-28T14:10:06.329Z\",\"age\":37},\"registered\":{\"date\":\"2017-10-17T16:26:07.499Z\",\"age\":7},\"phone\":\"(954) 779-5605\",\"cell\":\"(569) 802-2424\",\"id\":{\"name\":\"SSN\",\"value\":\"668-17-1840\"},\"picture\":{\"large\":\"https://randomuser.me/api/portraits/men/87.jpg\",\"medium\":\"https://randomuser.me/api/portraits/med/men/87.jpg\",\"thumbnail\":\"https://randomuser.me/api/portraits/thumb/men/87.jpg\"},\"nat\":\"US\"},{\"gender\":\"male\",\"name\":{\"title\":\"Mr\",\"first\":\"Juan\",\"last\":\"Austin\"},\"location\":{\"street\":{\"number\":6123,\"name\":\"W Pecan St\"},\"city\":\"Pomona\",\"state\":\"Connecticut\",\"country\":\"United States\",\"postcode\":92831,\"coordinates\":{\"latitude\":\"-1.4962\",\"longitude\":\"1.6587\"},\"timezone\":{\"offset\":\"-11:00\",\"description\":\"Midway Island, Samoa\"}},\"email\":\"juan.austin@example.com\",\"login\":{\"uuid\":\"9f82048b-608e-4a44-b4c6-cb0d975f5895\",\"username\":\"lazymeercat408\",\"password\":\"simple1\",\"salt\":\"EcQuuQ5a\",\"md5\":\"0018f35009d21f68e938d7ee46eeccbe\",\"sha1\":\"7444a812b3ee6c6d908930d9c128561e5c167dc5\",\"sha256\":\"709ade1e12465aafe4cac972e23e4d712b4dda1c1b68015aeea21f217f0e234b\"},\"dob\":{\"date\":\"1981-12-12T00:29:50.285Z\",\"age\":43},\"registered\":{\"date\":\"2014-12-22T18:15:54.737Z\",\"age\":10},\"phone\":\"(501) 557-5127\",\"cell\":\"(433) 988-8327\",\"id\":{\"name\":\"SSN\",\"value\":\"134-75-9027\"},\"picture\":{\"large\":\"https://randomuser.me/api/portraits/men/62.jpg\",\"medium\":\"https://randomuser.me/api/portraits/med/men/62.jpg\",\"thumbnail\":\"https://randomuser.me/api/portraits/thumb/men/62.jpg\"},\"nat\":\"US\"},{\"gender\":\"male\",\"name\":{\"title\":\"Mr\",\"first\":\"Allan\",\"last\":\"Simmons\"},\"location\":{\"street\":{\"number\":6538,\"name\":\"E Pecan St\"},\"city\":\"Hayward\",\"state\":\"Delaware\",\"country\":\"United States\",\"postcode\":75960,\"coordinates\":{\"latitude\":\"75.9666\",\"longitude\":\"9.4715\"},\"timezone\":{\"offset\":\"-12:00\",\"description\":\"Eniwetok, Kwajalein\"}},\"email\":\"allan.simmons@example.com\",\"login\":{\"uuid\":\"9e38cb06-bd1a-40fc-85b1-0382fef56b82\",\"username\":\"happybutterfly558\",\"password\":\"sergeant\",\"salt\":\"H2bDdoEk\",\"md5\":\"4153f3245928b1e843e38d043b745ddb\",\"sha1\":\"e0e7289b6700daee6385ab311e644a93c0f8a000\",\"sha256\":\"6c91e2caaeba2190a498133cba0427213a3b4f060ff2489ae76a5e0191bc8c8c\"},\"dob\":{\"date\":\"1969-07-01T13:52:45.898Z\",\"age\":56},\"registered\":{\"date\":\"2005-08-19T06:22:27.250Z\",\"age\":19},\"phone\":\"(914) 422-8426\",\"cell\":\"(712) 675-5857\",\"id\":{\"name\":\"SSN\",\"value\":\"412-08-7658\"},\"picture\":{\"large\":\"https://randomuser.me/api/portraits/men/99.jpg\",\"medium\":\"https://randomuser.me/api/portraits/med/men/99.jpg\",\"thumbnail\":\"https://randomuser.me/api/portraits/thumb/men/99.jpg\"},\"nat\":\"US\"},{\"gender\":\"male\",\"name\":{\"title\":\"Mr\",\"first\":\"Nathan\",\"last\":\"Holt\"},\"location\":{\"street\":{\"number\":1969,\"name\":\"Groveland Terrace\"},\"city\":\"Bozeman\",\"state\":\"West Virginia\",\"country\":\"United States\",\"postcode\":53484,\"coordinates\":{\"latitude\":\"48.6201\",\"longitude\":\"23.5981\"},\"timezone\":{\"offset\":\"-4:00\",\"description\":\"Atlantic Time (Canada), Caracas, La Paz\"}},\"email\":\"nathan.holt@example.com\",\"login\":{\"uuid\":\"9357f851-9b8b-4ed3-8061-2927c695ffcc\",\"username\":\"lazypanda596\",\"password\":\"chilli\",\"salt\":\"fwd2Ukux\",\"md5\":\"b3077a68a4aee8afd4c243560ce3d2ff\",\"sha1\":\"4b097b8137084d088c009f8bae5152fdb1f342c5\",\"sha256\":\"9ad869785931c494876e10df2bbe96f5e8df2f4d338b3d40bc5a9802bc8e610c\"},\"dob\":{\"date\":\"1963-04-30T11:52:07.184Z\",\"age\":62},\"registered\":{\"date\":\"2016-04-27T23:45:15.510Z\",\"age\":9},\"phone\":\"(683) 369-1144\",\"cell\":\"(421) 454-9944\",\"id\":{\"name\":\"SSN\",\"value\":\"778-14-5966\"},\"picture\":{\"large\":\"https://randomuser.me/api/portraits/men/9.jpg\",\"medium\":\"https://randomuser.me/api/portraits/med/men/9.jpg\",\"thumbnail\":\"https://randomuser.me/api/portraits/thumb/men/9.jpg\"},\"nat\":\"US\"},{\"gender\":\"male\",\"name\":{\"title\":\"Mr\",\"first\":\"Gabriel\",\"last\":\"Graves\"},\"location\":{\"street\":{\"number\":5098,\"name\":\"White Oak Dr\"},\"city\":\"Lubbock\",\"state\":\"Kentucky\",\"country\":\"United States\",\"postcode\":46731,\"coordinates\":{\"latitude\":\"66.9749\",\"longitude\":\"142.2252\"},\"timezone\":{\"offset\":\"0:00\",\"description\":\"Western Europe Time, London, Lisbon, Casablanca\"}},\"email\":\"gabriel.graves@example.com\",\"login\":{\"uuid\":\"86abf9b0-97bf-4c13-8746-aad1b2d71680\",\"username\":\"brownpeacock703\",\"password\":\"flipper\",\"salt\":\"3NMUYc2U\",\"md5\":\"ef1a87a203eb6a7aa421df0bc48c529f\",\"sha1\":\"4fc5cc6a4c1af99d1fdb16077c6a54f06fb964aa\",\"sha256\":\"6288368ca00c8bdf424366a4bf1fae381efc3ff0527f3b3ff85c42ef2413fee1\"},\"dob\":{\"date\":\"1986-07-11T03:02:19.227Z\",\"age\":39},\"registered\":{\"date\":\"2016-08-22T05:17:58.509Z\",\"age\":8},\"phone\":\"(592) 297-0106\",\"cell\":\"(832) 296-4478\",\"id\":{\"name\":\"SSN\",\"value\":\"535-53-6596\"},\"picture\":{\"large\":\"https://randomuser.me/api/portraits/men/25.jpg\",\"medium\":\"https://randomuser.me/api/portraits/med/men/25.jpg\",\"thumbnail\":\"https://randomuser.me/api/portraits/thumb/men/25.jpg\"},\"nat\":\"US\"}],\"info\":{\"seed\":\"7d051db714193afa\",\"results\":10,\"page\":1,\"version\":\"1.4\"}}\n"
     ]
    }
   ],
   "source": [
    "print(response.text)"
   ]
  },
  {
   "cell_type": "code",
   "execution_count": 6,
   "id": "a8818f71-8f24-4f61-8b47-4c3929218dd8",
   "metadata": {},
   "outputs": [],
   "source": [
    "data = response.json()"
   ]
  },
  {
   "cell_type": "code",
   "execution_count": 7,
   "id": "80dda432-559f-492e-8331-2ab722b4e74c",
   "metadata": {},
   "outputs": [
    {
     "name": "stdout",
     "output_type": "stream",
     "text": [
      "<class 'dict'>\n"
     ]
    }
   ],
   "source": [
    "print(type(data))"
   ]
  },
  {
   "cell_type": "code",
   "execution_count": 8,
   "id": "fa5a0c18-e66d-4c03-92bd-438c0812cfa7",
   "metadata": {},
   "outputs": [
    {
     "name": "stdout",
     "output_type": "stream",
     "text": [
      "Matthew\n",
      "Rene\n",
      "Eduardo\n",
      "Samuel\n",
      "Eduardo\n",
      "Norman\n",
      "Juan\n",
      "Allan\n",
      "Nathan\n",
      "Gabriel\n"
     ]
    }
   ],
   "source": [
    "for user in data['results']:\n",
    "    print(user['name']['first'])"
   ]
  },
  {
   "cell_type": "code",
   "execution_count": 9,
   "id": "9ef5476d-ca11-4f7e-883a-0f81615cfd83",
   "metadata": {},
   "outputs": [],
   "source": [
    "space_response = requests.get(\"http://api.open-notify.org/astros.json\")\n",
    "space_data = space_response.json()"
   ]
  },
  {
   "cell_type": "code",
   "execution_count": 11,
   "id": "4ceb7cfe-fb23-44eb-9c56-4e96fe7a110a",
   "metadata": {},
   "outputs": [
    {
     "name": "stdout",
     "output_type": "stream",
     "text": [
      "Number of people in space: 12\n"
     ]
    }
   ],
   "source": [
    "print(f\"Number of people in space: {space_data['number']}\")"
   ]
  },
  {
   "cell_type": "code",
   "execution_count": 12,
   "id": "3e972eb0-7a30-4733-826b-5b78d86d4d60",
   "metadata": {},
   "outputs": [
    {
     "name": "stdout",
     "output_type": "stream",
     "text": [
      "Astronauts currently in space:\n",
      "- Oleg Kononenko (on ISS)\n",
      "- Nikolai Chub (on ISS)\n",
      "- Tracy Caldwell Dyson (on ISS)\n",
      "- Matthew Dominick (on ISS)\n",
      "- Michael Barratt (on ISS)\n",
      "- Jeanette Epps (on ISS)\n",
      "- Alexander Grebenkin (on ISS)\n",
      "- Butch Wilmore (on ISS)\n",
      "- Sunita Williams (on ISS)\n",
      "- Li Guangsu (on Tiangong)\n",
      "- Li Cong (on Tiangong)\n",
      "- Ye Guangfu (on Tiangong)\n",
      "{'message': 'success',\n",
      " 'number': 12,\n",
      " 'people': [{'craft': 'ISS', 'name': 'Oleg Kononenko'},\n",
      "            {'craft': 'ISS', 'name': 'Nikolai Chub'},\n",
      "            {'craft': 'ISS', 'name': 'Tracy Caldwell Dyson'},\n",
      "            {'craft': 'ISS', 'name': 'Matthew Dominick'},\n",
      "            {'craft': 'ISS', 'name': 'Michael Barratt'},\n",
      "            {'craft': 'ISS', 'name': 'Jeanette Epps'},\n",
      "            {'craft': 'ISS', 'name': 'Alexander Grebenkin'},\n",
      "            {'craft': 'ISS', 'name': 'Butch Wilmore'},\n",
      "            {'craft': 'ISS', 'name': 'Sunita Williams'},\n",
      "            {'craft': 'Tiangong', 'name': 'Li Guangsu'},\n",
      "            {'craft': 'Tiangong', 'name': 'Li Cong'},\n",
      "            {'craft': 'Tiangong', 'name': 'Ye Guangfu'}]}\n"
     ]
    }
   ],
   "source": [
    "from pprint import pprint\n",
    "\n",
    "print(\"Astronauts currently in space:\")\n",
    "for person in space_data['people']:\n",
    "    print(f\"- {person['name']} (on {person['craft']})\")\n",
    "\n",
    "# Pretty print the entire data structure\n",
    "pprint(space_data)"
   ]
  },
  {
   "cell_type": "code",
   "execution_count": 13,
   "id": "292b0600-c83d-4f94-baec-a6ec88858d33",
   "metadata": {},
   "outputs": [],
   "source": [
    "import os\n",
    "import requests\n",
    "from dotenv import load_dotenv\n",
    "import pandas as pd\n",
    "from matplotlib import pyplot as plt\n",
    "from matplotlib.ticker import FuncFormatter\n",
    "\n",
    "load_dotenv()\n",
    "av_token = os.getenv('AV_TOKEN')"
   ]
  },
  {
   "cell_type": "code",
   "execution_count": 15,
   "id": "8d3f0d87-ae20-4881-8f6a-72a257418c87",
   "metadata": {},
   "outputs": [],
   "source": [
    "symbol = 'AAPL'\n",
    "url = f'https://www.alphavantage.co/query?function=INCOME_STATEMENT&symbol={symbol}&apikey={av_token}'\n",
    "r = requests.get(url)\n",
    "data = r.json()"
   ]
  },
  {
   "cell_type": "code",
   "execution_count": 16,
   "id": "4508ba57-814d-4148-8f0e-152eefbfeb1a",
   "metadata": {},
   "outputs": [],
   "source": [
    "income_df = pd.DataFrame(data['annualReports'])"
   ]
  },
  {
   "cell_type": "code",
   "execution_count": 17,
   "id": "fb2bf536-e75b-4daa-bfe8-24d8fcda8c80",
   "metadata": {},
   "outputs": [],
   "source": [
    "income_df['fiscalDateEnding'] = pd.to_datetime(income_df['fiscalDateEnding'])\n",
    "income_df['fiscalYear'] = income_df['fiscalDateEnding'].dt.year\n",
    "\n",
    "cols_to_float = ['grossProfit', 'totalRevenue', 'costOfRevenue', \n",
    "                'costofGoodsAndServicesSold', 'operatingIncome',\n",
    "                'sellingGeneralAndAdministrative', 'researchAndDevelopment',\n",
    "                'operatingExpenses', 'investmentIncomeNet', 'netInterestIncome',\n",
    "                'interestIncome', 'interestExpense', 'nonInterestIncome',\n",
    "                'otherNonOperatingIncome', 'depreciation',\n",
    "                'depreciationAndAmortization', 'incomeBeforeTax', 'incomeTaxExpense',\n",
    "                'interestAndDebtExpense', 'netIncomeFromContinuingOperations',\n",
    "                'comprehensiveIncomeNetOfTax', 'ebit', 'ebitda', 'netIncome']\n",
    "\n",
    "income_df[cols_to_float] = income_df[cols_to_float].apply(pd.to_numeric, errors='coerce')\n",
    "income_df = income_df.sort_values(by='fiscalYear', ascending=True)"
   ]
  },
  {
   "cell_type": "code",
   "execution_count": null,
   "id": "e0fea4f6-258a-4eb3-94e7-a3cb4f57876d",
   "metadata": {},
   "outputs": [],
   "source": [
    "plt.style.use('fivethirtyeight')\n",
    "fig, ax = plt.subplots(figsize=(10, 6))\n",
    "income_df.plot(\n",
    "    x='fiscalYear',\n",
    "    y='totalRevenue',\n",
    "    kind='bar',\n",
    "    ax=ax,\n",
    "    title=f'Revenue of {symbol}',\n",
    "    ylabel='Revenue (Billion USD)',\n",
    "    xlabel='Fiscal Year',\n",
    "    legend=False\n",
    ")\n",
    "\n",
    "# Format y-axis to billions\n",
    "ax.yaxis.set_major_formatter(FuncFormatter(lambda x, _: f'{x/1e9:.0f}'))\n",
    "\n",
    "plt.tight_layout()\n",
    "plt.show()"
   ]
  }
 ],
 "metadata": {
  "kernelspec": {
   "display_name": "Python 3 (ipykernel)",
   "language": "python",
   "name": "python3"
  },
  "language_info": {
   "codemirror_mode": {
    "name": "ipython",
    "version": 3
   },
   "file_extension": ".py",
   "mimetype": "text/x-python",
   "name": "python",
   "nbconvert_exporter": "python",
   "pygments_lexer": "ipython3",
   "version": "3.12.7"
  }
 },
 "nbformat": 4,
 "nbformat_minor": 5
}
